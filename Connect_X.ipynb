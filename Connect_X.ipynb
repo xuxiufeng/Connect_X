{
  "cells": [
    {
      "cell_type": "markdown",
      "metadata": {
        "id": "view-in-github",
        "colab_type": "text"
      },
      "source": [
        "<a href=\"https://colab.research.google.com/github/xuxiufeng/Connect_X/blob/main/Connect_X.ipynb\" target=\"_parent\"><img src=\"https://colab.research.google.com/assets/colab-badge.svg\" alt=\"Open In Colab\"/></a>"
      ]
    },
    {
      "cell_type": "code",
      "execution_count": null,
      "metadata": {
        "id": "J31VU00QxgeB"
      },
      "outputs": [],
      "source": [
        "!pip install 'kaggle-environments==0.1.6' > /dev/null 2>&1"
      ]
    },
    {
      "cell_type": "code",
      "execution_count": null,
      "metadata": {
        "id": "82uBIogVxgge"
      },
      "outputs": [],
      "source": [
        "import numpy as np\n",
        "import gym\n",
        "import random\n",
        "import matplotlib.pyplot as plt\n",
        "from random import choice\n",
        "from tqdm.notebook import tqdm\n",
        "from kaggle_environments import evaluate, make"
      ]
    },
    {
      "cell_type": "code",
      "execution_count": null,
      "metadata": {
        "id": "apK5oW67xgi7"
      },
      "outputs": [],
      "source": [
        "class ConnectX(gym.Env):\n",
        "    def __init__(self, switch_prob=0.5):\n",
        "        self.env = make('connectx', debug=True)\n",
        "        self.pair = [None, 'negamax']\n",
        "        self.trainer = self.env.train(self.pair)\n",
        "        self.switch_prob = switch_prob\n",
        "        \n",
        "        # Define required gym fields (examples):\n",
        "        config = self.env.configuration\n",
        "        self.action_space = gym.spaces.Discrete(config.columns)\n",
        "        self.observation_space = gym.spaces.Discrete(config.columns * config.rows)\n",
        "\n",
        "    def switch_trainer(self):\n",
        "        self.pair = self.pair[::-1]\n",
        "        self.trainer = self.env.train(self.pair)\n",
        "\n",
        "    def step(self, action):\n",
        "        return self.trainer.step(action)\n",
        "    \n",
        "    def reset(self):\n",
        "        if random.uniform(0, 1) < self.switch_prob:\n",
        "            self.switch_trainer()\n",
        "        return self.trainer.reset()\n",
        "    \n",
        "    def render(self, **kwargs):\n",
        "        return self.env.render(**kwargs)\n"
      ]
    },
    {
      "cell_type": "code",
      "execution_count": null,
      "metadata": {
        "id": "5GmWbDjBxglb"
      },
      "outputs": [],
      "source": [
        "class QTable:\n",
        "    def __init__(self, action_space):\n",
        "        self.table = dict()\n",
        "        self.action_space = action_space\n",
        "        \n",
        "    def add_item(self, state_key):\n",
        "        self.table[state_key] = list(np.zeros(self.action_space.n))\n",
        "        \n",
        "    def __call__(self, state):\n",
        "        board = state.board[:] # Get a copy\n",
        "        board.append(state.mark)\n",
        "        state_key = np.array(board).astype(str)\n",
        "        state_key = hex(int(''.join(state_key), 3))[2:]\n",
        "        if state_key not in self.table.keys():\n",
        "            self.add_item(state_key)\n",
        "        \n",
        "        return self.table[state_key]\n",
        "\n"
      ]
    },
    {
      "cell_type": "code",
      "execution_count": null,
      "metadata": {
        "id": "FCoMApaLxgoC"
      },
      "outputs": [],
      "source": [
        "env = ConnectX()"
      ]
    },
    {
      "cell_type": "code",
      "execution_count": null,
      "metadata": {
        "id": "byDZq1O1xgqe"
      },
      "outputs": [],
      "source": [
        "alpha = 0.1\n",
        "gamma = 0.6\n",
        "epsilon = 0.99\n",
        "min_epsilon = 0.1\n",
        "\n",
        "episodes = 10000\n",
        "\n",
        "alpha_decay_step = 1000\n",
        "alpha_decay_rate = 0.9\n",
        "epsilon_decay_rate = 0.9999"
      ]
    },
    {
      "cell_type": "code",
      "execution_count": null,
      "metadata": {
        "colab": {
          "background_save": true,
          "base_uri": "https://localhost:8080/",
          "height": 49,
          "referenced_widgets": [
            "e3bb22967f594a66a943e35ed2154763",
            "139355381ef24edbaf801ea376438068",
            "e3d9c2ffc0ff49b59781ff8eea3833c9",
            "9e645678105045df94068c7885dd838c",
            "e5d7230353a74ee79836994dbf0ac92c",
            "e9dbf8866f194864a86fc94c435f6367",
            "0b4c76705e3a4976af19f5d677049376",
            "00ac55b0b36c427bbd13aebeda3d3596",
            "fb5ef5439345493999b67baae8db4498",
            "e5de497e9aeb47b4a351735009d59538",
            "0d9d6bc929c541299892886c34535493"
          ]
        },
        "id": "IHpp7eQVzU1z",
        "outputId": "edf4b9d3-d189-43fc-a209-a1fc5e2040a6"
      },
      "outputs": [
        {
          "data": {
            "application/vnd.jupyter.widget-view+json": {
              "model_id": "e3bb22967f594a66a943e35ed2154763",
              "version_major": 2,
              "version_minor": 0
            },
            "text/plain": [
              "  0%|          | 0/10000 [00:00<?, ?it/s]"
            ]
          },
          "metadata": {},
          "output_type": "display_data"
        }
      ],
      "source": [
        "q_table = QTable(env.action_space)\n",
        "\n",
        "all_epochs = []\n",
        "all_total_rewards = []\n",
        "all_avg_rewards = [] # Last 100 steps\n",
        "all_qtable_rows = []\n",
        "all_epsilons = []\n",
        "\n",
        "for i in tqdm(range(episodes)):\n",
        "    state = env.reset()\n",
        "\n",
        "    epsilon = max(min_epsilon, epsilon * epsilon_decay_rate)\n",
        "    epochs, total_rewards = 0, 0\n",
        "    done = False\n",
        "    \n",
        "    while not done:\n",
        "        if random.uniform(0, 1) < epsilon:\n",
        "            action = choice([c for c in range(env.action_space.n) if state.board[c] == 0])\n",
        "        else:\n",
        "            row = q_table(state)[:]\n",
        "            selected_items = []\n",
        "            for j in range(env.action_space.n):\n",
        "                if state.board[j] == 0:\n",
        "                    selected_items.append(row[j])\n",
        "                else:\n",
        "                    selected_items.append(-1e7)\n",
        "            action = int(np.argmax(selected_items))\n",
        "\n",
        "        next_state, reward, done, info = env.step(action)\n",
        "\n",
        "        # Apply new rules\n",
        "        if done:\n",
        "            if reward == 1: # Won\n",
        "                reward = 20\n",
        "            elif reward == 0: # Lost\n",
        "                reward = -20\n",
        "            else: # Draw\n",
        "                reward = 10\n",
        "        else:\n",
        "            reward = -0.05 # Try to prevent the agent from taking a long move\n",
        "\n",
        "        old_value = q_table(state)[action]\n",
        "        next_max = np.max(q_table(next_state))\n",
        "        \n",
        "        # Update Q-value\n",
        "        new_value = (1 - alpha) * old_value + alpha * (reward + gamma * next_max)\n",
        "        q_table(state)[action] = new_value\n",
        "\n",
        "        state = next_state\n",
        "        epochs += 1\n",
        "        total_rewards += reward\n",
        "\n",
        "\n",
        "    all_epochs.append(epochs)\n",
        "    all_total_rewards.append(total_rewards)\n",
        "    avg_rewards = np.mean(all_total_rewards[max(0, i-100):(i+1)])\n",
        "    all_avg_rewards.append(avg_rewards)\n",
        "    all_qtable_rows.append(len(q_table.table))\n",
        "    all_epsilons.append(epsilon)\n",
        "  \n",
        "    if (i+1) % alpha_decay_step == 0:\n",
        "        alpha *= alpha_decay_rate"
      ]
    },
    {
      "cell_type": "code",
      "execution_count": null,
      "metadata": {
        "colab": {
          "background_save": true
        },
        "id": "zJkYz-JhzU4e",
        "outputId": "d3c40f03-61fc-4aea-bee7-ab7c0d015e85"
      },
      "outputs": [
        {
          "data": {
            "text/plain": [
              "40620"
            ]
          },
          "execution_count": null,
          "metadata": {},
          "output_type": "execute_result"
        }
      ],
      "source": [
        "len(q_table.table)"
      ]
    },
    {
      "cell_type": "code",
      "execution_count": null,
      "metadata": {
        "colab": {
          "background_save": true
        },
        "id": "S0p4YKv6zU7T"
      },
      "outputs": [],
      "source": [
        "for k in q_table.table.keys():\n",
        "    print('State:', k)\n",
        "    print('Action-Value:', list(q_table.table[k]), '\\n')"
      ]
    },
    {
      "cell_type": "code",
      "execution_count": null,
      "metadata": {
        "colab": {
          "background_save": true
        },
        "id": "RVaw4yYvzU9w",
        "outputId": "886084eb-3d1e-4ef6-8aab-e19640d6d5e8"
      },
      "outputs": [
        {
          "data": {
            "image/png": "[encoded data removed]",
            "text/plain": [
              "<Figure size 432x288 with 1 Axes>"
            ]
          },
          "metadata": {},
          "output_type": "display_data"
        }
      ],
      "source": [
        "plt.plot(all_epochs)\n",
        "plt.xlabel('Episode')\n",
        "plt.ylabel('Num of steps')\n",
        "plt.show()"
      ]
    },
    {
      "cell_type": "code",
      "execution_count": null,
      "metadata": {
        "colab": {
          "background_save": true
        },
        "id": "1H6cne52zVAN",
        "outputId": "46e75b49-a82c-45f1-cb0f-9f3420563d56"
      },
      "outputs": [
        {
          "data": {
            "image/png": "[encoded data removed]",
            "text/plain": [
              "<Figure size 432x288 with 1 Axes>"
            ]
          },
          "metadata": {},
          "output_type": "display_data"
        }
      ],
      "source": [
        "plt.plot(all_total_rewards)\n",
        "plt.xlabel('Episode')\n",
        "plt.ylabel('Total rewards')\n",
        "plt.show()"
      ]
    },
    {
      "cell_type": "code",
      "execution_count": null,
      "metadata": {
        "colab": {
          "background_save": true
        },
        "id": "RXBxd7kAzVDD",
        "outputId": "f410f642-e996-4bd0-decb-f88b8b501dda"
      },
      "outputs": [
        {
          "data": {
            "image/png": "[encoded data removed]",
            "text/plain": [
              "<Figure size 432x288 with 1 Axes>"
            ]
          },
          "metadata": {},
          "output_type": "display_data"
        }
      ],
      "source": [
        "plt.plot(all_avg_rewards)\n",
        "plt.xlabel('Episode')\n",
        "plt.ylabel('Avg rewards (100)')\n",
        "plt.show()"
      ]
    },
    {
      "cell_type": "code",
      "execution_count": null,
      "metadata": {
        "colab": {
          "background_save": true
        },
        "id": "26yQoyGR0IW_",
        "outputId": "8ef2544d-a754-45cd-de83-4e6685703aa1"
      },
      "outputs": [
        {
          "data": {
            "image/png": "[encoded data removed]",
            "text/plain": [
              "<Figure size 432x288 with 1 Axes>"
            ]
          },
          "metadata": {},
          "output_type": "display_data"
        }
      ],
      "source": [
        "plt.plot(all_qtable_rows)\n",
        "plt.xlabel('Episode')\n",
        "plt.ylabel('Explored states')\n",
        "plt.show()"
      ]
    },
    {
      "cell_type": "code",
      "execution_count": null,
      "metadata": {
        "colab": {
          "background_save": true
        },
        "id": "SqX5v2DJ0IfA",
        "outputId": "da20d7ea-8ca6-443b-ca9a-7d35a01cc885"
      },
      "outputs": [
        {
          "data": {
            "image/png": "[encoded data removed]",
            "text/plain": [
              "<Figure size 432x288 with 1 Axes>"
            ]
          },
          "metadata": {},
          "output_type": "display_data"
        }
      ],
      "source": [
        "plt.plot(all_epsilons)\n",
        "plt.xlabel('Episode')\n",
        "plt.ylabel('Epsilon')\n",
        "plt.show()"
      ]
    },
    {
      "cell_type": "code",
      "execution_count": null,
      "metadata": {
        "colab": {
          "background_save": true
        },
        "id": "BzniwGn00IiN"
      },
      "outputs": [],
      "source": [
        "tmp_dict_q_table = q_table.table.copy()\n",
        "dict_q_table = dict()\n",
        "\n",
        "for k in tmp_dict_q_table:\n",
        "    if np.count_nonzero(tmp_dict_q_table[k]) > 0:\n",
        "        dict_q_table[k] = int(np.argmax(tmp_dict_q_table[k]))"
      ]
    },
    {
      "cell_type": "code",
      "execution_count": null,
      "metadata": {
        "colab": {
          "background_save": true
        },
        "id": "sZOHFZzN0IlI"
      },
      "outputs": [],
      "source": [
        "my_agent = '''def my_agent(observation, configuration):\n",
        "    from random import choice\n",
        "\n",
        "    q_table = ''' \\\n",
        "    + str(dict_q_table).replace(' ', '') \\\n",
        "    + '''\n",
        "\n",
        "    board = observation.board[:]\n",
        "    board.append(observation.mark)\n",
        "    state_key = list(map(str, board))\n",
        "    state_key = hex(int(''.join(state_key), 3))[2:]\n",
        "\n",
        "    if state_key not in q_table.keys():\n",
        "        return choice([c for c in range(configuration.columns) if observation.board[c] == 0])\n",
        "\n",
        "    action = q_table[state_key]\n",
        "\n",
        "    if observation.board[action] != 0:\n",
        "        return choice([c for c in range(configuration.columns) if observation.board[c] == 0])\n",
        "\n",
        "    return action\n",
        "    '''"
      ]
    },
    {
      "cell_type": "code",
      "execution_count": null,
      "metadata": {
        "colab": {
          "background_save": true
        },
        "id": "04RbcqaF0In0"
      },
      "outputs": [],
      "source": [
        "with open('submission.py', 'w') as f:\n",
        "    f.write(my_agent)"
      ]
    },
    {
      "cell_type": "code",
      "execution_count": null,
      "metadata": {
        "colab": {
          "background_save": true
        },
        "id": "Wdmaq3pz0e02"
      },
      "outputs": [],
      "source": [
        "from submission import my_agent"
      ]
    },
    {
      "cell_type": "code",
      "execution_count": null,
      "metadata": {
        "id": "ObWbT6cZ0e3O"
      },
      "outputs": [],
      "source": [
        "def mean_reward(rewards):\n",
        "    return sum(r[0] for r in rewards) / sum(r[0] + r[1] for r in rewards)\n",
        "\n",
        "# Run multiple episodes to estimate agent's performance.\n",
        "print(\"My Agent vs Random Agent:\", mean_reward(evaluate(\"connectx\", [my_agent, \"random\"], num_episodes=10)))\n",
        "print(\"My Agent vs Negamax Agent:\", mean_reward(evaluate(\"connectx\", [my_agent, \"negamax\"], num_episodes=10)))"
      ]
    }
  ],
  "metadata": {
    "colab": {
      "name": "Connect X.ipynb",
      "provenance": [],
      "authorship_tag": "ABX9TyNCikCqZv7gCXoFPYtRfDa4",
      "include_colab_link": true
    },
    "kernelspec": {
      "display_name": "Python 3",
      "name": "python3"
    },
    "language_info": {
      "name": "python"
    },
    "widgets": {
      "application/vnd.jupyter.widget-state+json": {
        "00ac55b0b36c427bbd13aebeda3d3596": {
          "model_module": "@jupyter-widgets/base",
          "model_module_version": "1.2.0",
          "model_name": "LayoutModel",
          "state": {
            "_model_module": "@jupyter-widgets/base",
            "_model_module_version": "1.2.0",
            "_model_name": "LayoutModel",
            "_view_count": null,
            "_view_module": "@jupyter-widgets/base",
            "_view_module_version": "1.2.0",
            "_view_name": "LayoutView",
            "align_content": null,
            "align_items": null,
            "align_self": null,
            "border": null,
            "bottom": null,
            "display": null,
            "flex": null,
            "flex_flow": null,
            "grid_area": null,
            "grid_auto_columns": null,
            "grid_auto_flow": null,
            "grid_auto_rows": null,
            "grid_column": null,
            "grid_gap": null,
            "grid_row": null,
            "grid_template_areas": null,
            "grid_template_columns": null,
            "grid_template_rows": null,
            "height": null,
            "justify_content": null,
            "justify_items": null,
            "left": null,
            "margin": null,
            "max_height": null,
            "max_width": null,
            "min_height": null,
            "min_width": null,
            "object_fit": null,
            "object_position": null,
            "order": null,
            "overflow": null,
            "overflow_x": null,
            "overflow_y": null,
            "padding": null,
            "right": null,
            "top": null,
            "visibility": null,
            "width": null
          }
        },
        "0b4c76705e3a4976af19f5d677049376": {
          "model_module": "@jupyter-widgets/controls",
          "model_module_version": "1.5.0",
          "model_name": "DescriptionStyleModel",
          "state": {
            "_model_module": "@jupyter-widgets/controls",
            "_model_module_version": "1.5.0",
            "_model_name": "DescriptionStyleModel",
            "_view_count": null,
            "_view_module": "@jupyter-widgets/base",
            "_view_module_version": "1.2.0",
            "_view_name": "StyleView",
            "description_width": ""
          }
        },
        "0d9d6bc929c541299892886c34535493": {
          "model_module": "@jupyter-widgets/controls",
          "model_module_version": "1.5.0",
          "model_name": "DescriptionStyleModel",
          "state": {
            "_model_module": "@jupyter-widgets/controls",
            "_model_module_version": "1.5.0",
            "_model_name": "DescriptionStyleModel",
            "_view_count": null,
            "_view_module": "@jupyter-widgets/base",
            "_view_module_version": "1.2.0",
            "_view_name": "StyleView",
            "description_width": ""
          }
        },
        "139355381ef24edbaf801ea376438068": {
          "model_module": "@jupyter-widgets/controls",
          "model_module_version": "1.5.0",
          "model_name": "HTMLModel",
          "state": {
            "_dom_classes": [],
            "_model_module": "@jupyter-widgets/controls",
            "_model_module_version": "1.5.0",
            "_model_name": "HTMLModel",
            "_view_count": null,
            "_view_module": "@jupyter-widgets/controls",
            "_view_module_version": "1.5.0",
            "_view_name": "HTMLView",
            "description": "",
            "description_tooltip": null,
            "layout": "IPY_MODEL_e9dbf8866f194864a86fc94c435f6367",
            "placeholder": "​",
            "style": "IPY_MODEL_0b4c76705e3a4976af19f5d677049376",
            "value": "  0%"
          }
        },
        "9e645678105045df94068c7885dd838c": {
          "model_module": "@jupyter-widgets/controls",
          "model_module_version": "1.5.0",
          "model_name": "HTMLModel",
          "state": {
            "_dom_classes": [],
            "_model_module": "@jupyter-widgets/controls",
            "_model_module_version": "1.5.0",
            "_model_name": "HTMLModel",
            "_view_count": null,
            "_view_module": "@jupyter-widgets/controls",
            "_view_module_version": "1.5.0",
            "_view_name": "HTMLView",
            "description": "",
            "description_tooltip": null,
            "layout": "IPY_MODEL_e5de497e9aeb47b4a351735009d59538",
            "placeholder": "​",
            "style": "IPY_MODEL_0d9d6bc929c541299892886c34535493",
            "value": " 23/10000 [00:22&lt;2:57:23,  1.07s/it]"
          }
        },
        "e3bb22967f594a66a943e35ed2154763": {
          "model_module": "@jupyter-widgets/controls",
          "model_module_version": "1.5.0",
          "model_name": "HBoxModel",
          "state": {
            "_dom_classes": [],
            "_model_module": "@jupyter-widgets/controls",
            "_model_module_version": "1.5.0",
            "_model_name": "HBoxModel",
            "_view_count": null,
            "_view_module": "@jupyter-widgets/controls",
            "_view_module_version": "1.5.0",
            "_view_name": "HBoxView",
            "box_style": "",
            "children": [
              "IPY_MODEL_139355381ef24edbaf801ea376438068",
              "IPY_MODEL_e3d9c2ffc0ff49b59781ff8eea3833c9",
              "IPY_MODEL_9e645678105045df94068c7885dd838c"
            ],
            "layout": "IPY_MODEL_e5d7230353a74ee79836994dbf0ac92c"
          }
        },
        "e3d9c2ffc0ff49b59781ff8eea3833c9": {
          "model_module": "@jupyter-widgets/controls",
          "model_module_version": "1.5.0",
          "model_name": "FloatProgressModel",
          "state": {
            "_dom_classes": [],
            "_model_module": "@jupyter-widgets/controls",
            "_model_module_version": "1.5.0",
            "_model_name": "FloatProgressModel",
            "_view_count": null,
            "_view_module": "@jupyter-widgets/controls",
            "_view_module_version": "1.5.0",
            "_view_name": "ProgressView",
            "bar_style": "",
            "description": "",
            "description_tooltip": null,
            "layout": "IPY_MODEL_00ac55b0b36c427bbd13aebeda3d3596",
            "max": 10000,
            "min": 0,
            "orientation": "horizontal",
            "style": "IPY_MODEL_fb5ef5439345493999b67baae8db4498",
            "value": 24
          }
        },
        "e5d7230353a74ee79836994dbf0ac92c": {
          "model_module": "@jupyter-widgets/base",
          "model_module_version": "1.2.0",
          "model_name": "LayoutModel",
          "state": {
            "_model_module": "@jupyter-widgets/base",
            "_model_module_version": "1.2.0",
            "_model_name": "LayoutModel",
            "_view_count": null,
            "_view_module": "@jupyter-widgets/base",
            "_view_module_version": "1.2.0",
            "_view_name": "LayoutView",
            "align_content": null,
            "align_items": null,
            "align_self": null,
            "border": null,
            "bottom": null,
            "display": null,
            "flex": null,
            "flex_flow": null,
            "grid_area": null,
            "grid_auto_columns": null,
            "grid_auto_flow": null,
            "grid_auto_rows": null,
            "grid_column": null,
            "grid_gap": null,
            "grid_row": null,
            "grid_template_areas": null,
            "grid_template_columns": null,
            "grid_template_rows": null,
            "height": null,
            "justify_content": null,
            "justify_items": null,
            "left": null,
            "margin": null,
            "max_height": null,
            "max_width": null,
            "min_height": null,
            "min_width": null,
            "object_fit": null,
            "object_position": null,
            "order": null,
            "overflow": null,
            "overflow_x": null,
            "overflow_y": null,
            "padding": null,
            "right": null,
            "top": null,
            "visibility": null,
            "width": null
          }
        },
        "e5de497e9aeb47b4a351735009d59538": {
          "model_module": "@jupyter-widgets/base",
          "model_module_version": "1.2.0",
          "model_name": "LayoutModel",
          "state": {
            "_model_module": "@jupyter-widgets/base",
            "_model_module_version": "1.2.0",
            "_model_name": "LayoutModel",
            "_view_count": null,
            "_view_module": "@jupyter-widgets/base",
            "_view_module_version": "1.2.0",
            "_view_name": "LayoutView",
            "align_content": null,
            "align_items": null,
            "align_self": null,
            "border": null,
            "bottom": null,
            "display": null,
            "flex": null,
            "flex_flow": null,
            "grid_area": null,
            "grid_auto_columns": null,
            "grid_auto_flow": null,
            "grid_auto_rows": null,
            "grid_column": null,
            "grid_gap": null,
            "grid_row": null,
            "grid_template_areas": null,
            "grid_template_columns": null,
            "grid_template_rows": null,
            "height": null,
            "justify_content": null,
            "justify_items": null,
            "left": null,
            "margin": null,
            "max_height": null,
            "max_width": null,
            "min_height": null,
            "min_width": null,
            "object_fit": null,
            "object_position": null,
            "order": null,
            "overflow": null,
            "overflow_x": null,
            "overflow_y": null,
            "padding": null,
            "right": null,
            "top": null,
            "visibility": null,
            "width": null
          }
        },
        "e9dbf8866f194864a86fc94c435f6367": {
          "model_module": "@jupyter-widgets/base",
          "model_module_version": "1.2.0",
          "model_name": "LayoutModel",
          "state": {
            "_model_module": "@jupyter-widgets/base",
            "_model_module_version": "1.2.0",
            "_model_name": "LayoutModel",
            "_view_count": null,
            "_view_module": "@jupyter-widgets/base",
            "_view_module_version": "1.2.0",
            "_view_name": "LayoutView",
            "align_content": null,
            "align_items": null,
            "align_self": null,
            "border": null,
            "bottom": null,
            "display": null,
            "flex": null,
            "flex_flow": null,
            "grid_area": null,
            "grid_auto_columns": null,
            "grid_auto_flow": null,
            "grid_auto_rows": null,
            "grid_column": null,
            "grid_gap": null,
            "grid_row": null,
            "grid_template_areas": null,
            "grid_template_columns": null,
            "grid_template_rows": null,
            "height": null,
            "justify_content": null,
            "justify_items": null,
            "left": null,
            "margin": null,
            "max_height": null,
            "max_width": null,
            "min_height": null,
            "min_width": null,
            "object_fit": null,
            "object_position": null,
            "order": null,
            "overflow": null,
            "overflow_x": null,
            "overflow_y": null,
            "padding": null,
            "right": null,
            "top": null,
            "visibility": null,
            "width": null
          }
        },
        "fb5ef5439345493999b67baae8db4498": {
          "model_module": "@jupyter-widgets/controls",
          "model_module_version": "1.5.0",
          "model_name": "ProgressStyleModel",
          "state": {
            "_model_module": "@jupyter-widgets/controls",
            "_model_module_version": "1.5.0",
            "_model_name": "ProgressStyleModel",
            "_view_count": null,
            "_view_module": "@jupyter-widgets/base",
            "_view_module_version": "1.2.0",
            "_view_name": "StyleView",
            "bar_color": null,
            "description_width": ""
          }
        }
      }
    }
  },
  "nbformat": 4,
  "nbformat_minor": 0
}