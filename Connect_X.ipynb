{
  "nbformat": 4,
  "nbformat_minor": 0,
  "metadata": {
    "colab": {
      "name": "Connect X.ipynb",
      "provenance": [],
      "authorship_tag": "ABX9TyNCikCqZv7gCXoFPYtRfDa4",
      "include_colab_link": true
    },
    "kernelspec": {
      "name": "python3",
      "display_name": "Python 3"
    },
    "language_info": {
      "name": "python"
    },
    "widgets": {
      "application/vnd.jupyter.widget-state+json": {
        "281cb8013b7e460896277dd767e9283b": {
          "model_module": "@jupyter-widgets/controls",
          "model_name": "HBoxModel",
          "model_module_version": "1.5.0",
          "state": {
            "_view_name": "HBoxView",
            "_dom_classes": [],
            "_model_name": "HBoxModel",
            "_view_module": "@jupyter-widgets/controls",
            "_model_module_version": "1.5.0",
            "_view_count": null,
            "_view_module_version": "1.5.0",
            "box_style": "",
            "layout": "IPY_MODEL_e3921590a7584ca3951e105ca07fb3c9",
            "_model_module": "@jupyter-widgets/controls",
            "children": [
              "IPY_MODEL_82fc62ca215144a5a79d43833c174963",
              "IPY_MODEL_f25bb558d6c541ffbf0791359c41a594",
              "IPY_MODEL_21c909cdf42a4b0487f21ca96f71ae8e"
            ]
          }
        },
        "e3921590a7584ca3951e105ca07fb3c9": {
          "model_module": "@jupyter-widgets/base",
          "model_name": "LayoutModel",
          "model_module_version": "1.2.0",
          "state": {
            "_view_name": "LayoutView",
            "grid_template_rows": null,
            "right": null,
            "justify_content": null,
            "_view_module": "@jupyter-widgets/base",
            "overflow": null,
            "_model_module_version": "1.2.0",
            "_view_count": null,
            "flex_flow": null,
            "width": null,
            "min_width": null,
            "border": null,
            "align_items": null,
            "bottom": null,
            "_model_module": "@jupyter-widgets/base",
            "top": null,
            "grid_column": null,
            "overflow_y": null,
            "overflow_x": null,
            "grid_auto_flow": null,
            "grid_area": null,
            "grid_template_columns": null,
            "flex": null,
            "_model_name": "LayoutModel",
            "justify_items": null,
            "grid_row": null,
            "max_height": null,
            "align_content": null,
            "visibility": null,
            "align_self": null,
            "height": null,
            "min_height": null,
            "padding": null,
            "grid_auto_rows": null,
            "grid_gap": null,
            "max_width": null,
            "order": null,
            "_view_module_version": "1.2.0",
            "grid_template_areas": null,
            "object_position": null,
            "object_fit": null,
            "grid_auto_columns": null,
            "margin": null,
            "display": null,
            "left": null
          }
        },
        "82fc62ca215144a5a79d43833c174963": {
          "model_module": "@jupyter-widgets/controls",
          "model_name": "HTMLModel",
          "model_module_version": "1.5.0",
          "state": {
            "_view_name": "HTMLView",
            "style": "IPY_MODEL_7a92c25ef969424fb9d73860f3724976",
            "_dom_classes": [],
            "description": "",
            "_model_name": "HTMLModel",
            "placeholder": "​",
            "_view_module": "@jupyter-widgets/controls",
            "_model_module_version": "1.5.0",
            "value": " 36%",
            "_view_count": null,
            "_view_module_version": "1.5.0",
            "description_tooltip": null,
            "_model_module": "@jupyter-widgets/controls",
            "layout": "IPY_MODEL_ff37f1335cee467486135c643bb9839c"
          }
        },
        "f25bb558d6c541ffbf0791359c41a594": {
          "model_module": "@jupyter-widgets/controls",
          "model_name": "FloatProgressModel",
          "model_module_version": "1.5.0",
          "state": {
            "_view_name": "ProgressView",
            "style": "IPY_MODEL_5358733607e44e038eeb405a26667f5f",
            "_dom_classes": [],
            "description": "",
            "_model_name": "FloatProgressModel",
            "bar_style": "",
            "max": 10000,
            "_view_module": "@jupyter-widgets/controls",
            "_model_module_version": "1.5.0",
            "value": 3607,
            "_view_count": null,
            "_view_module_version": "1.5.0",
            "orientation": "horizontal",
            "min": 0,
            "description_tooltip": null,
            "_model_module": "@jupyter-widgets/controls",
            "layout": "IPY_MODEL_9da5ea84aa4343298707037e4c4db700"
          }
        },
        "21c909cdf42a4b0487f21ca96f71ae8e": {
          "model_module": "@jupyter-widgets/controls",
          "model_name": "HTMLModel",
          "model_module_version": "1.5.0",
          "state": {
            "_view_name": "HTMLView",
            "style": "IPY_MODEL_ccf6029a20bd455aacd04aa2c3a70d84",
            "_dom_classes": [],
            "description": "",
            "_model_name": "HTMLModel",
            "placeholder": "​",
            "_view_module": "@jupyter-widgets/controls",
            "_model_module_version": "1.5.0",
            "value": " 3607/10000 [1:01:24&lt;2:25:45,  1.37s/it]",
            "_view_count": null,
            "_view_module_version": "1.5.0",
            "description_tooltip": null,
            "_model_module": "@jupyter-widgets/controls",
            "layout": "IPY_MODEL_ce7ac0e64df34e3b89109b399982644a"
          }
        },
        "7a92c25ef969424fb9d73860f3724976": {
          "model_module": "@jupyter-widgets/controls",
          "model_name": "DescriptionStyleModel",
          "model_module_version": "1.5.0",
          "state": {
            "_view_name": "StyleView",
            "_model_name": "DescriptionStyleModel",
            "description_width": "",
            "_view_module": "@jupyter-widgets/base",
            "_model_module_version": "1.5.0",
            "_view_count": null,
            "_view_module_version": "1.2.0",
            "_model_module": "@jupyter-widgets/controls"
          }
        },
        "ff37f1335cee467486135c643bb9839c": {
          "model_module": "@jupyter-widgets/base",
          "model_name": "LayoutModel",
          "model_module_version": "1.2.0",
          "state": {
            "_view_name": "LayoutView",
            "grid_template_rows": null,
            "right": null,
            "justify_content": null,
            "_view_module": "@jupyter-widgets/base",
            "overflow": null,
            "_model_module_version": "1.2.0",
            "_view_count": null,
            "flex_flow": null,
            "width": null,
            "min_width": null,
            "border": null,
            "align_items": null,
            "bottom": null,
            "_model_module": "@jupyter-widgets/base",
            "top": null,
            "grid_column": null,
            "overflow_y": null,
            "overflow_x": null,
            "grid_auto_flow": null,
            "grid_area": null,
            "grid_template_columns": null,
            "flex": null,
            "_model_name": "LayoutModel",
            "justify_items": null,
            "grid_row": null,
            "max_height": null,
            "align_content": null,
            "visibility": null,
            "align_self": null,
            "height": null,
            "min_height": null,
            "padding": null,
            "grid_auto_rows": null,
            "grid_gap": null,
            "max_width": null,
            "order": null,
            "_view_module_version": "1.2.0",
            "grid_template_areas": null,
            "object_position": null,
            "object_fit": null,
            "grid_auto_columns": null,
            "margin": null,
            "display": null,
            "left": null
          }
        },
        "5358733607e44e038eeb405a26667f5f": {
          "model_module": "@jupyter-widgets/controls",
          "model_name": "ProgressStyleModel",
          "model_module_version": "1.5.0",
          "state": {
            "_view_name": "StyleView",
            "_model_name": "ProgressStyleModel",
            "description_width": "",
            "_view_module": "@jupyter-widgets/base",
            "_model_module_version": "1.5.0",
            "_view_count": null,
            "_view_module_version": "1.2.0",
            "bar_color": null,
            "_model_module": "@jupyter-widgets/controls"
          }
        },
        "9da5ea84aa4343298707037e4c4db700": {
          "model_module": "@jupyter-widgets/base",
          "model_name": "LayoutModel",
          "model_module_version": "1.2.0",
          "state": {
            "_view_name": "LayoutView",
            "grid_template_rows": null,
            "right": null,
            "justify_content": null,
            "_view_module": "@jupyter-widgets/base",
            "overflow": null,
            "_model_module_version": "1.2.0",
            "_view_count": null,
            "flex_flow": null,
            "width": null,
            "min_width": null,
            "border": null,
            "align_items": null,
            "bottom": null,
            "_model_module": "@jupyter-widgets/base",
            "top": null,
            "grid_column": null,
            "overflow_y": null,
            "overflow_x": null,
            "grid_auto_flow": null,
            "grid_area": null,
            "grid_template_columns": null,
            "flex": null,
            "_model_name": "LayoutModel",
            "justify_items": null,
            "grid_row": null,
            "max_height": null,
            "align_content": null,
            "visibility": null,
            "align_self": null,
            "height": null,
            "min_height": null,
            "padding": null,
            "grid_auto_rows": null,
            "grid_gap": null,
            "max_width": null,
            "order": null,
            "_view_module_version": "1.2.0",
            "grid_template_areas": null,
            "object_position": null,
            "object_fit": null,
            "grid_auto_columns": null,
            "margin": null,
            "display": null,
            "left": null
          }
        },
        "ccf6029a20bd455aacd04aa2c3a70d84": {
          "model_module": "@jupyter-widgets/controls",
          "model_name": "DescriptionStyleModel",
          "model_module_version": "1.5.0",
          "state": {
            "_view_name": "StyleView",
            "_model_name": "DescriptionStyleModel",
            "description_width": "",
            "_view_module": "@jupyter-widgets/base",
            "_model_module_version": "1.5.0",
            "_view_count": null,
            "_view_module_version": "1.2.0",
            "_model_module": "@jupyter-widgets/controls"
          }
        },
        "ce7ac0e64df34e3b89109b399982644a": {
          "model_module": "@jupyter-widgets/base",
          "model_name": "LayoutModel",
          "model_module_version": "1.2.0",
          "state": {
            "_view_name": "LayoutView",
            "grid_template_rows": null,
            "right": null,
            "justify_content": null,
            "_view_module": "@jupyter-widgets/base",
            "overflow": null,
            "_model_module_version": "1.2.0",
            "_view_count": null,
            "flex_flow": null,
            "width": null,
            "min_width": null,
            "border": null,
            "align_items": null,
            "bottom": null,
            "_model_module": "@jupyter-widgets/base",
            "top": null,
            "grid_column": null,
            "overflow_y": null,
            "overflow_x": null,
            "grid_auto_flow": null,
            "grid_area": null,
            "grid_template_columns": null,
            "flex": null,
            "_model_name": "LayoutModel",
            "justify_items": null,
            "grid_row": null,
            "max_height": null,
            "align_content": null,
            "visibility": null,
            "align_self": null,
            "height": null,
            "min_height": null,
            "padding": null,
            "grid_auto_rows": null,
            "grid_gap": null,
            "max_width": null,
            "order": null,
            "_view_module_version": "1.2.0",
            "grid_template_areas": null,
            "object_position": null,
            "object_fit": null,
            "grid_auto_columns": null,
            "margin": null,
            "display": null,
            "left": null
          }
        }
      }
    }
  },
  "cells": [
    {
      "cell_type": "markdown",
      "metadata": {
        "id": "view-in-github",
        "colab_type": "text"
      },
      "source": [
        "<a href=\"https://colab.research.google.com/github/xuxiufeng/Connect_X/blob/main/Connect_X.ipynb\" target=\"_parent\"><img src=\"https://colab.research.google.com/assets/colab-badge.svg\" alt=\"Open In Colab\"/></a>"
      ]
    },
    {
      "cell_type": "code",
      "source": [
        "!pip install 'kaggle-environments==0.1.6' > /dev/null 2>&1"
      ],
      "metadata": {
        "id": "J31VU00QxgeB"
      },
      "execution_count": 1,
      "outputs": []
    },
    {
      "cell_type": "code",
      "source": [
        "import numpy as np\n",
        "import gym\n",
        "import random\n",
        "import matplotlib.pyplot as plt\n",
        "from random import choice\n",
        "from tqdm.notebook import tqdm\n",
        "from kaggle_environments import evaluate, make"
      ],
      "metadata": {
        "id": "82uBIogVxgge"
      },
      "execution_count": 2,
      "outputs": []
    },
    {
      "cell_type": "code",
      "source": [
        "class ConnectX(gym.Env):\n",
        "    def __init__(self, switch_prob=0.5):\n",
        "        self.env = make('connectx', debug=True)\n",
        "        self.pair = [None, 'negamax']\n",
        "        self.trainer = self.env.train(self.pair)\n",
        "        self.switch_prob = switch_prob\n",
        "        \n",
        "        # Define required gym fields (examples):\n",
        "        config = self.env.configuration\n",
        "        self.action_space = gym.spaces.Discrete(config.columns)\n",
        "        self.observation_space = gym.spaces.Discrete(config.columns * config.rows)\n",
        "\n",
        "    def switch_trainer(self):\n",
        "        self.pair = self.pair[::-1]\n",
        "        self.trainer = self.env.train(self.pair)\n",
        "\n",
        "    def step(self, action):\n",
        "        return self.trainer.step(action)\n",
        "    \n",
        "    def reset(self):\n",
        "        if random.uniform(0, 1) < self.switch_prob:\n",
        "            self.switch_trainer()\n",
        "        return self.trainer.reset()\n",
        "    \n",
        "    def render(self, **kwargs):\n",
        "        return self.env.render(**kwargs)\n"
      ],
      "metadata": {
        "id": "apK5oW67xgi7"
      },
      "execution_count": 3,
      "outputs": []
    },
    {
      "cell_type": "code",
      "source": [
        "class QTable:\n",
        "    def __init__(self, action_space):\n",
        "        self.table = dict()\n",
        "        self.action_space = action_space\n",
        "        \n",
        "    def add_item(self, state_key):\n",
        "        self.table[state_key] = list(np.zeros(self.action_space.n))\n",
        "        \n",
        "    def __call__(self, state):\n",
        "        board = state.board[:] # Get a copy\n",
        "        board.append(state.mark)\n",
        "        state_key = np.array(board).astype(str)\n",
        "        state_key = hex(int(''.join(state_key), 3))[2:]\n",
        "        if state_key not in self.table.keys():\n",
        "            self.add_item(state_key)\n",
        "        \n",
        "        return self.table[state_key]\n",
        "\n"
      ],
      "metadata": {
        "id": "5GmWbDjBxglb"
      },
      "execution_count": 4,
      "outputs": []
    },
    {
      "cell_type": "code",
      "source": [
        "env = ConnectX()"
      ],
      "metadata": {
        "id": "FCoMApaLxgoC"
      },
      "execution_count": 5,
      "outputs": []
    },
    {
      "cell_type": "code",
      "source": [
        "alpha = 0.1\n",
        "gamma = 0.6\n",
        "epsilon = 0.99\n",
        "min_epsilon = 0.1\n",
        "\n",
        "episodes = 10000\n",
        "\n",
        "alpha_decay_step = 1000\n",
        "alpha_decay_rate = 0.9\n",
        "epsilon_decay_rate = 0.9999"
      ],
      "metadata": {
        "id": "byDZq1O1xgqe"
      },
      "execution_count": 6,
      "outputs": []
    },
    {
      "cell_type": "code",
      "source": [
        "q_table = QTable(env.action_space)\n",
        "\n",
        "all_epochs = []\n",
        "all_total_rewards = []\n",
        "all_avg_rewards = [] # Last 100 steps\n",
        "all_qtable_rows = []\n",
        "all_epsilons = []\n",
        "\n",
        "for i in tqdm(range(episodes)):\n",
        "    state = env.reset()\n",
        "\n",
        "    epsilon = max(min_epsilon, epsilon * epsilon_decay_rate)\n",
        "    epochs, total_rewards = 0, 0\n",
        "    done = False\n",
        "    \n",
        "    while not done:\n",
        "        if random.uniform(0, 1) < epsilon:\n",
        "            action = choice([c for c in range(env.action_space.n) if state.board[c] == 0])\n",
        "        else:\n",
        "            row = q_table(state)[:]\n",
        "            selected_items = []\n",
        "            for j in range(env.action_space.n):\n",
        "                if state.board[j] == 0:\n",
        "                    selected_items.append(row[j])\n",
        "                else:\n",
        "                    selected_items.append(-1e7)\n",
        "            action = int(np.argmax(selected_items))\n",
        "\n",
        "        next_state, reward, done, info = env.step(action)\n",
        "\n",
        "        # Apply new rules\n",
        "        if done:\n",
        "            if reward == 1: # Won\n",
        "                reward = 20\n",
        "            elif reward == 0: # Lost\n",
        "                reward = -20\n",
        "            else: # Draw\n",
        "                reward = 10\n",
        "        else:\n",
        "            reward = -0.05 # Try to prevent the agent from taking a long move\n",
        "\n",
        "        old_value = q_table(state)[action]\n",
        "        next_max = np.max(q_table(next_state))\n",
        "        \n",
        "        # Update Q-value\n",
        "        new_value = (1 - alpha) * old_value + alpha * (reward + gamma * next_max)\n",
        "        q_table(state)[action] = new_value\n",
        "\n",
        "        state = next_state\n",
        "        epochs += 1\n",
        "        total_rewards += reward\n",
        "\n",
        "\n",
        "    all_epochs.append(epochs)\n",
        "    all_total_rewards.append(total_rewards)\n",
        "    avg_rewards = np.mean(all_total_rewards[max(0, i-100):(i+1)])\n",
        "    all_avg_rewards.append(avg_rewards)\n",
        "    all_qtable_rows.append(len(q_table.table))\n",
        "    all_epsilons.append(epsilon)\n",
        "  \n",
        "    if (i+1) % alpha_decay_step == 0:\n",
        "        alpha *= alpha_decay_rate"
      ],
      "metadata": {
        "colab": {
          "base_uri": "https://localhost:8080/",
          "height": 49,
          "referenced_widgets": [
            "281cb8013b7e460896277dd767e9283b",
            "e3921590a7584ca3951e105ca07fb3c9",
            "82fc62ca215144a5a79d43833c174963",
            "f25bb558d6c541ffbf0791359c41a594",
            "21c909cdf42a4b0487f21ca96f71ae8e",
            "7a92c25ef969424fb9d73860f3724976",
            "ff37f1335cee467486135c643bb9839c",
            "5358733607e44e038eeb405a26667f5f",
            "9da5ea84aa4343298707037e4c4db700",
            "ccf6029a20bd455aacd04aa2c3a70d84",
            "ce7ac0e64df34e3b89109b399982644a"
          ]
        },
        "id": "IHpp7eQVzU1z",
        "outputId": "835dc83f-4f36-4342-dff1-541529a703bd"
      },
      "execution_count": null,
      "outputs": [
        {
          "data": {
            "application/vnd.jupyter.widget-view+json": {
              "model_id": "281cb8013b7e460896277dd767e9283b",
              "version_major": 2,
              "version_minor": 0
            },
            "text/plain": [
              "  0%|          | 0/10000 [00:00<?, ?it/s]"
            ]
          },
          "metadata": {},
          "output_type": "display_data"
        }
      ]
    },
    {
      "cell_type": "code",
      "source": [
        "len(q_table.table)"
      ],
      "metadata": {
        "id": "zJkYz-JhzU4e"
      },
      "execution_count": null,
      "outputs": []
    },
    {
      "cell_type": "code",
      "source": [
        "for k in q_table.table.keys():\n",
        "    print('State:', k)\n",
        "    print('Action-Value:', list(q_table.table[k]), '\\n')"
      ],
      "metadata": {
        "id": "S0p4YKv6zU7T"
      },
      "execution_count": null,
      "outputs": []
    },
    {
      "cell_type": "code",
      "source": [
        "plt.plot(all_epochs)\n",
        "plt.xlabel('Episode')\n",
        "plt.ylabel('Num of steps')\n",
        "plt.show()"
      ],
      "metadata": {
        "id": "RVaw4yYvzU9w"
      },
      "execution_count": null,
      "outputs": []
    },
    {
      "cell_type": "code",
      "source": [
        "plt.plot(all_total_rewards)\n",
        "plt.xlabel('Episode')\n",
        "plt.ylabel('Total rewards')\n",
        "plt.show()"
      ],
      "metadata": {
        "id": "1H6cne52zVAN"
      },
      "execution_count": null,
      "outputs": []
    },
    {
      "cell_type": "code",
      "source": [
        "plt.plot(all_avg_rewards)\n",
        "plt.xlabel('Episode')\n",
        "plt.ylabel('Avg rewards (100)')\n",
        "plt.show()"
      ],
      "metadata": {
        "id": "RXBxd7kAzVDD"
      },
      "execution_count": null,
      "outputs": []
    },
    {
      "cell_type": "code",
      "source": [
        "plt.plot(all_qtable_rows)\n",
        "plt.xlabel('Episode')\n",
        "plt.ylabel('Explored states')\n",
        "plt.show()"
      ],
      "metadata": {
        "id": "26yQoyGR0IW_"
      },
      "execution_count": null,
      "outputs": []
    },
    {
      "cell_type": "code",
      "source": [
        "plt.plot(all_epsilons)\n",
        "plt.xlabel('Episode')\n",
        "plt.ylabel('Epsilon')\n",
        "plt.show()"
      ],
      "metadata": {
        "id": "SqX5v2DJ0IfA"
      },
      "execution_count": null,
      "outputs": []
    },
    {
      "cell_type": "code",
      "source": [
        "tmp_dict_q_table = q_table.table.copy()\n",
        "dict_q_table = dict()\n",
        "\n",
        "for k in tmp_dict_q_table:\n",
        "    if np.count_nonzero(tmp_dict_q_table[k]) > 0:\n",
        "        dict_q_table[k] = int(np.argmax(tmp_dict_q_table[k]))"
      ],
      "metadata": {
        "id": "BzniwGn00IiN"
      },
      "execution_count": null,
      "outputs": []
    },
    {
      "cell_type": "code",
      "source": [
        "my_agent = '''def my_agent(observation, configuration):\n",
        "    from random import choice\n",
        "\n",
        "    q_table = ''' \\\n",
        "    + str(dict_q_table).replace(' ', '') \\\n",
        "    + '''\n",
        "\n",
        "    board = observation.board[:]\n",
        "    board.append(observation.mark)\n",
        "    state_key = list(map(str, board))\n",
        "    state_key = hex(int(''.join(state_key), 3))[2:]\n",
        "\n",
        "    if state_key not in q_table.keys():\n",
        "        return choice([c for c in range(configuration.columns) if observation.board[c] == 0])\n",
        "\n",
        "    action = q_table[state_key]\n",
        "\n",
        "    if observation.board[action] != 0:\n",
        "        return choice([c for c in range(configuration.columns) if observation.board[c] == 0])\n",
        "\n",
        "    return action\n",
        "    '''"
      ],
      "metadata": {
        "id": "sZOHFZzN0IlI"
      },
      "execution_count": null,
      "outputs": []
    },
    {
      "cell_type": "code",
      "source": [
        "with open('submission.py', 'w') as f:\n",
        "    f.write(my_agent)"
      ],
      "metadata": {
        "id": "04RbcqaF0In0"
      },
      "execution_count": null,
      "outputs": []
    },
    {
      "cell_type": "code",
      "source": [
        "from submission import my_agent"
      ],
      "metadata": {
        "id": "Wdmaq3pz0e02"
      },
      "execution_count": null,
      "outputs": []
    },
    {
      "cell_type": "code",
      "source": [
        "def mean_reward(rewards):\n",
        "    return sum(r[0] for r in rewards) / sum(r[0] + r[1] for r in rewards)\n",
        "\n",
        "# Run multiple episodes to estimate agent's performance.\n",
        "print(\"My Agent vs Random Agent:\", mean_reward(evaluate(\"connectx\", [my_agent, \"random\"], num_episodes=10)))\n",
        "print(\"My Agent vs Negamax Agent:\", mean_reward(evaluate(\"connectx\", [my_agent, \"negamax\"], num_episodes=10)))"
      ],
      "metadata": {
        "id": "ObWbT6cZ0e3O"
      },
      "execution_count": null,
      "outputs": []
    }
  ]
}